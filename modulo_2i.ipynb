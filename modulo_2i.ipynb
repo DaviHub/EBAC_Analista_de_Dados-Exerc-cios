{
  "nbformat": 4,
  "nbformat_minor": 0,
  "metadata": {
    "colab": {
      "provenance": [],
      "collapsed_sections": []
    },
    "kernelspec": {
      "name": "python3",
      "display_name": "Python 3"
    }
  },
  "cells": [
    {
      "cell_type": "markdown",
      "metadata": {
        "id": "KJqp9AANOCtf"
      },
      "source": [
        "<img src=\"https://raw.githubusercontent.com/andre-marcos-perez/ebac-course-utils/main/media/logo/newebac_logo_black_half.png\" alt=\"ebac-logo\">\n",
        "\n",
        "---\n",
        "\n",
        "# **Módulo** | Python: Estruturas de Dados\n",
        "Caderno de **Exercícios**<br> \n",
        "Professor [André Perez](https://www.linkedin.com/in/andremarcosperez/)\n",
        "\n",
        "---"
      ]
    },
    {
      "cell_type": "markdown",
      "metadata": {
        "id": "d9jDtUbDOE1-"
      },
      "source": [
        "# **Tópicos**\n",
        "\n",
        "<ol type=\"1\">\n",
        "  <li>Listas;</li>\n",
        "  <li>Conjuntos;</li>\n",
        "  <li>Dicionários.</li>\n",
        "</ol>"
      ]
    },
    {
      "cell_type": "markdown",
      "metadata": {
        "id": "SmoHgt-lwkpD"
      },
      "source": [
        "---"
      ]
    },
    {
      "cell_type": "markdown",
      "metadata": {
        "id": "GABI6OW8OfQ2"
      },
      "source": [
        "# **Exercícios**"
      ]
    },
    {
      "cell_type": "markdown",
      "metadata": {
        "id": "muD1vxozykSC"
      },
      "source": [
        "## 1\\. Listas"
      ]
    },
    {
      "cell_type": "markdown",
      "metadata": {
        "id": "ahrFfCuBxJKs"
      },
      "source": [
        "Criei uma lista chamada `filmes` com o nome dos 10 primeiros filmes mais bem avaliados no site no [IMDB](https://www.imdb.com/chart/top/). Imprima o resultado."
      ]
    },
    {
      "cell_type": "code",
      "metadata": {
        "id": "OgL6Hv3bzOHI",
        "colab": {
          "base_uri": "https://localhost:8080/"
        },
        "outputId": "ec07b7de-574b-43f4-c81f-035e97672d7c"
      },
      "source": [
        "filmes = ['Um Sonho de Liberdade (1994)', 'O Poderoso Chefão (1972)', 'Batman: O Cavaleiro das Trevas (2008)', 'O Poderoso Chefão II (1974)', '12 Homens e uma Sentença (1957)', 'A Lista de Schindler (1993)', 'O Senhor dos Anéis: O Retorno do Rei (2003)', 'Pulp Fiction: Tempo de Violência (1994)', 'O Senhor dos Anéis: A Sociedade do Anel (2001)', 'Três Homens em Conflito (1966)']\n",
        "print(filmes)"
      ],
      "execution_count": null,
      "outputs": [
        {
          "output_type": "stream",
          "name": "stdout",
          "text": [
            "['Um Sonho de Liberdade (1994)', 'O Poderoso Chefão (1972)', 'Batman: O Cavaleiro das Trevas (2008)', 'O Poderoso Chefão II (1974)', '12 Homens e uma Sentença (1957)', 'A Lista de Schindler (1993)', 'O Senhor dos Anéis: O Retorno do Rei (2003)', 'Pulp Fiction: Tempo de Violência (1994)', 'O Senhor dos Anéis: A Sociedade do Anel (2001)', 'Três Homens em Conflito (1966)']\n"
          ]
        }
      ]
    },
    {
      "cell_type": "markdown",
      "metadata": {
        "id": "KI9zQRT2xa7m"
      },
      "source": [
        "Simule a movimentação do *ranking*. Utilize os métodos `insert` e `pop` para trocar a posição do primeiro e do segundo filme da lista. Imprima o resultado.\n",
        "\n"
      ]
    },
    {
      "cell_type": "code",
      "metadata": {
        "id": "zX3mA3_GzrXH",
        "colab": {
          "base_uri": "https://localhost:8080/"
        },
        "outputId": "3782c31b-719a-4b69-ffc9-4bac6835679a"
      },
      "source": [
        "filmes.pop(0)\n",
        "filmes.insert(0, 'O Poderoso Chefão (1972)')\n",
        "filmes.pop(1)\n",
        "filmes.insert(1, 'Um Sonho de Liberdade (1994)')\n",
        "\n",
        "print(filmes)"
      ],
      "execution_count": null,
      "outputs": [
        {
          "output_type": "stream",
          "name": "stdout",
          "text": [
            "['O Poderoso Chefão (1972)', 'Um Sonho de Liberdade (1994)', 'Batman: O Cavaleiro das Trevas (2008)', 'O Poderoso Chefão II (1974)', '12 Homens e uma Sentença (1957)', 'A Lista de Schindler (1993)', 'O Senhor dos Anéis: O Retorno do Rei (2003)', 'Pulp Fiction: Tempo de Violência (1994)', 'O Senhor dos Anéis: A Sociedade do Anel (2001)', 'Três Homens em Conflito (1966)']\n"
          ]
        }
      ]
    },
    {
      "cell_type": "markdown",
      "metadata": {
        "id": "zMN1Q3jdwoJm"
      },
      "source": [
        "---"
      ]
    },
    {
      "cell_type": "markdown",
      "metadata": {
        "id": "lxa5L6uF0ZJE"
      },
      "source": [
        "## 2\\. Conjuntos"
      ]
    },
    {
      "cell_type": "markdown",
      "metadata": {
        "id": "9JahS2Kj0d5u"
      },
      "source": [
        "Aconteceu um erro no seu *ranking*. Simule a duplicação dos três últimos filmes da lista. Imprima o resultado."
      ]
    },
    {
      "cell_type": "code",
      "metadata": {
        "id": "BnjnLBNC6PGe",
        "colab": {
          "base_uri": "https://localhost:8080/"
        },
        "outputId": "a60b93ed-5170-40d8-e381-a2ccabe888b9"
      },
      "source": [
        "filmes = ['Um Sonho de Liberdade (1994)', 'O Poderoso Chefão (1972)', 'Batman: O Cavaleiro das Trevas (2008)', 'O Poderoso Chefão II (1974)', '12 Homens e uma Sentença (1957)', 'A Lista de Schindler (1993)', 'O Senhor dos Anéis: O Retorno do Rei (2003)', 'Pulp Fiction: Tempo de Violência (1994)', 'O Senhor dos Anéis: A Sociedade do Anel (2001)', 'Três Homens em Conflito (1966)', 'Pulp Fiction: Tempo de Violência (1994)', 'O Senhor dos Anéis: A Sociedade do Anel (2001)', 'Três Homens em Conflito (1966)']\n",
        "print(filmes)"
      ],
      "execution_count": null,
      "outputs": [
        {
          "output_type": "stream",
          "name": "stdout",
          "text": [
            "['Um Sonho de Liberdade (1994)', 'O Poderoso Chefão (1972)', 'Batman: O Cavaleiro das Trevas (2008)', 'O Poderoso Chefão II (1974)', '12 Homens e uma Sentença (1957)', 'A Lista de Schindler (1993)', 'O Senhor dos Anéis: O Retorno do Rei (2003)', 'Pulp Fiction: Tempo de Violência (1994)', 'O Senhor dos Anéis: A Sociedade do Anel (2001)', 'Três Homens em Conflito (1966)', 'Pulp Fiction: Tempo de Violência (1994)', 'O Senhor dos Anéis: A Sociedade do Anel (2001)', 'Três Homens em Conflito (1966)']\n"
          ]
        }
      ]
    },
    {
      "cell_type": "markdown",
      "metadata": {
        "id": "suxTfCJB6ZiX"
      },
      "source": [
        "Utiliza a conversão `set` e `list` para remover os valores duplicados. Imprima o resultado. "
      ]
    },
    {
      "cell_type": "code",
      "metadata": {
        "id": "ZvUGN-0n6joM",
        "colab": {
          "base_uri": "https://localhost:8080/"
        },
        "outputId": "dab374b0-8834-4919-dd84-2c66261b8a5f"
      },
      "source": [
        "filmes = set(filmes)\n",
        "print(filmes)"
      ],
      "execution_count": null,
      "outputs": [
        {
          "output_type": "stream",
          "name": "stdout",
          "text": [
            "{'Um Sonho de Liberdade (1994)', 'Pulp Fiction: Tempo de Violência (1994)', 'O Senhor dos Anéis: O Retorno do Rei (2003)', 'O Poderoso Chefão (1972)', 'O Senhor dos Anéis: A Sociedade do Anel (2001)', 'Três Homens em Conflito (1966)', '12 Homens e uma Sentença (1957)', 'O Poderoso Chefão II (1974)', 'Batman: O Cavaleiro das Trevas (2008)', 'A Lista de Schindler (1993)'}\n"
          ]
        }
      ]
    },
    {
      "cell_type": "markdown",
      "metadata": {
        "id": "ShkK35eQ6pAM"
      },
      "source": [
        "---"
      ]
    },
    {
      "cell_type": "markdown",
      "metadata": {
        "id": "EL_FzmxL6rTv"
      },
      "source": [
        "## 3\\. Dicionários"
      ]
    },
    {
      "cell_type": "markdown",
      "metadata": {
        "id": "i8l0gFqRCpfT"
      },
      "source": [
        "Repita os exercícios da parte 1 (listas). Os elementos da lista `filmes` devem ser dicionários no seguinte formato: `{'nome': <nome-do-filme>, 'ano': <ano do filme>}, 'sinopse': <sinopse do filme>}`. "
      ]
    },
    {
      "cell_type": "code",
      "source": [
        "filmes1 = {'nome' : 'Um Sonho de Liberdade',  \n",
        "            'ano' : 1994, \n",
        "            'sinopse': 'Dois homens presos se reúnem ao longo de vários anos, encontrando consolo e eventual redenção através de atos de decência comum.',\n",
        "}\n",
        "\n",
        "filmes2 = {'nome' : 'O Poderoso Chefão',\n",
        "           'ano' : 1972,\n",
        "            'sinopse' : 'O patriarca idoso de uma dinastia do crime organizado transfere o controle de seu império clandestino para seu filho relutante.',       \n",
        "}\n",
        "\n",
        "filmes3 = {'nome' : 'Batman: O Cavaleiro das Trevas', \n",
        "            'ano': 2008, \n",
        "            'sinopse' : 'Quando a ameaça conhecida como O Coringa surge de seu passado, causa estragos e caos nas pessoas de Gotham. O Cavaleiro das Trevas deve aceitar um dos maiores testes para combater a injustiça.',           \n",
        "}\n",
        "\n",
        "filmes4 = {'nome' : 'O Poderoso Chefão II',\n",
        "            'ano' : 1974,\n",
        "            'sinopse' : 'Em 1950, Michael Corleone, agora à frente da família, tenta expandir o negócio do crime a Las Vegas, Los Angeles e Cuba. Paralelamente, é revelada a história de Vito Corleone, e de como saiu da Sicília e chegou a Nova Iorque.',          \n",
        "}\n",
        "\n",
        "filmes5 = {'nome' : '12 Homens e uma Sentença',\n",
        "            'ano' : 1957,\n",
        "            'sinopse' : 'Um jurado que se aposenta tenta evitar um erro judicial forçando seus colegas a reconsiderarem as evidências.',\n",
        "}\n",
        "\n",
        "filmes6 = {'nome' : 'A Lista de Schindler',\n",
        "            'ano' : 1993,\n",
        "            'sinopse' : 'Depois de testemunhar a perseguição dos judaicos na Polônia ocupada pelos alemães durante a Segunda Guerra Mundial, o industrial Oskar Schindler se começa a preocupar com sua força de trabalho judaica.',\n",
        "}\n",
        "\n",
        "filmes7 = {'nome' : 'O Senhor dos Anéis: O Retorno do Rei',\n",
        "            'ano' : 2003, \n",
        "            'sinopse' : 'Gandalf e Aragorn lideram o Mundo dos Homens contra o exército de Sauron para desviar o olhar de Frodo e Sam quando eles se aproximam á Montanha da Perdição com o Um Anel.',          \n",
        "}\n",
        "\n",
        "filmes8 = {'nome' : 'Pulp Fiction: Tempo de Violência',\n",
        "            'ano' : 1994, \n",
        "            'sinopse' : 'As vidas de dois assassinos da máfia, um boxeador, um gângster e sua esposa, e um par de bandidos se entrelaçam em quatro histórias de violência e redenção.',         \n",
        "}\n",
        "\n",
        "filmes9 =  {'nome' : 'O Senhor dos Anéis: A Sociedade do Anel',\n",
        "            'ano' : 2001,\n",
        "            'sinopse' : 'Um manso hobbit do Condado e oito companheiros partem em uma jornada para destruir o poderoso Um Anel e salvar a Terra-média das Trevas.',          \n",
        "}          \n",
        "filmes10 = {'nome' : 'Três Homens em Conflito',\n",
        "            'ano' : 1966,\n",
        "            'sinopse' : 'Um impostor se junta com dois homens para encontrar fortuna num remoto cemitério.'\n",
        "}\n",
        "\n",
        "print(filmes1)\n",
        "print(filmes2)\n",
        "print(filmes3)\n",
        "print(filmes4)\n",
        "print(filmes5)\n",
        "print(filmes6)\n",
        "print(filmes7)\n",
        "print(filmes8)\n",
        "print(filmes9)\n",
        "print(filmes10)\n",
        "\n",
        "filmes_list = [filmes1, filmes2, filmes3, filmes4, filmes5, filmes6, filmes7, filmes8, filmes9, filmes10]\n",
        "print(filmes_list)"
      ],
      "metadata": {
        "colab": {
          "base_uri": "https://localhost:8080/"
        },
        "id": "WyUx-Gb8MvTQ",
        "outputId": "201616c6-4c44-4e80-ee02-e1884653d51e"
      },
      "execution_count": 2,
      "outputs": [
        {
          "output_type": "stream",
          "name": "stdout",
          "text": [
            "{'nome': 'Um Sonho de Liberdade', 'ano': 1994, 'sinopse': 'Dois homens presos se reúnem ao longo de vários anos, encontrando consolo e eventual redenção através de atos de decência comum.'}\n",
            "{'nome': 'O Poderoso Chefão', 'ano': 1972, 'sinopse': 'O patriarca idoso de uma dinastia do crime organizado transfere o controle de seu império clandestino para seu filho relutante.'}\n",
            "{'nome': 'Batman: O Cavaleiro das Trevas', 'ano': 2008, 'sinopse': 'Quando a ameaça conhecida como O Coringa surge de seu passado, causa estragos e caos nas pessoas de Gotham. O Cavaleiro das Trevas deve aceitar um dos maiores testes para combater a injustiça.'}\n",
            "{'nome': 'O Poderoso Chefão II', 'ano': 1974, 'sinopse': 'Em 1950, Michael Corleone, agora à frente da família, tenta expandir o negócio do crime a Las Vegas, Los Angeles e Cuba. Paralelamente, é revelada a história de Vito Corleone, e de como saiu da Sicília e chegou a Nova Iorque.'}\n",
            "{'nome': '12 Homens e uma Sentença', 'ano': 1957, 'sinopse': 'Um jurado que se aposenta tenta evitar um erro judicial forçando seus colegas a reconsiderarem as evidências.'}\n",
            "{'nome': 'A Lista de Schindler', 'ano': 1993, 'sinopse': 'Depois de testemunhar a perseguição dos judaicos na Polônia ocupada pelos alemães durante a Segunda Guerra Mundial, o industrial Oskar Schindler se começa a preocupar com sua força de trabalho judaica.'}\n",
            "{'nome': 'O Senhor dos Anéis: O Retorno do Rei', 'ano': 2003, 'sinopse': 'Gandalf e Aragorn lideram o Mundo dos Homens contra o exército de Sauron para desviar o olhar de Frodo e Sam quando eles se aproximam á Montanha da Perdição com o Um Anel.'}\n",
            "{'nome': 'Pulp Fiction: Tempo de Violência', 'ano': 1994, 'sinopse': 'As vidas de dois assassinos da máfia, um boxeador, um gângster e sua esposa, e um par de bandidos se entrelaçam em quatro histórias de violência e redenção.'}\n",
            "{'nome': 'O Senhor dos Anéis: A Sociedade do Anel', 'ano': 2001, 'sinopse': 'Um manso hobbit do Condado e oito companheiros partem em uma jornada para destruir o poderoso Um Anel e salvar a Terra-média das Trevas.'}\n",
            "{'nome': 'Três Homens em Conflito', 'ano': 1966, 'sinopse': 'Um impostor se junta com dois homens para encontrar fortuna num remoto cemitério.'}\n",
            "[{'nome': 'Um Sonho de Liberdade', 'ano': 1994, 'sinopse': 'Dois homens presos se reúnem ao longo de vários anos, encontrando consolo e eventual redenção através de atos de decência comum.'}, {'nome': 'O Poderoso Chefão', 'ano': 1972, 'sinopse': 'O patriarca idoso de uma dinastia do crime organizado transfere o controle de seu império clandestino para seu filho relutante.'}, {'nome': 'Batman: O Cavaleiro das Trevas', 'ano': 2008, 'sinopse': 'Quando a ameaça conhecida como O Coringa surge de seu passado, causa estragos e caos nas pessoas de Gotham. O Cavaleiro das Trevas deve aceitar um dos maiores testes para combater a injustiça.'}, {'nome': 'O Poderoso Chefão II', 'ano': 1974, 'sinopse': 'Em 1950, Michael Corleone, agora à frente da família, tenta expandir o negócio do crime a Las Vegas, Los Angeles e Cuba. Paralelamente, é revelada a história de Vito Corleone, e de como saiu da Sicília e chegou a Nova Iorque.'}, {'nome': '12 Homens e uma Sentença', 'ano': 1957, 'sinopse': 'Um jurado que se aposenta tenta evitar um erro judicial forçando seus colegas a reconsiderarem as evidências.'}, {'nome': 'A Lista de Schindler', 'ano': 1993, 'sinopse': 'Depois de testemunhar a perseguição dos judaicos na Polônia ocupada pelos alemães durante a Segunda Guerra Mundial, o industrial Oskar Schindler se começa a preocupar com sua força de trabalho judaica.'}, {'nome': 'O Senhor dos Anéis: O Retorno do Rei', 'ano': 2003, 'sinopse': 'Gandalf e Aragorn lideram o Mundo dos Homens contra o exército de Sauron para desviar o olhar de Frodo e Sam quando eles se aproximam á Montanha da Perdição com o Um Anel.'}, {'nome': 'Pulp Fiction: Tempo de Violência', 'ano': 1994, 'sinopse': 'As vidas de dois assassinos da máfia, um boxeador, um gângster e sua esposa, e um par de bandidos se entrelaçam em quatro histórias de violência e redenção.'}, {'nome': 'O Senhor dos Anéis: A Sociedade do Anel', 'ano': 2001, 'sinopse': 'Um manso hobbit do Condado e oito companheiros partem em uma jornada para destruir o poderoso Um Anel e salvar a Terra-média das Trevas.'}, {'nome': 'Três Homens em Conflito', 'ano': 1966, 'sinopse': 'Um impostor se junta com dois homens para encontrar fortuna num remoto cemitério.'}]\n"
          ]
        }
      ]
    }
  ]
}
